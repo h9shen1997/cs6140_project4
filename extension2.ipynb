{
 "nbformat": 4,
 "nbformat_minor": 0,
 "metadata": {
  "colab": {
   "provenance": [],
   "machine_shape": "hm"
  },
  "kernelspec": {
   "name": "python3",
   "display_name": "Python 3"
  },
  "language_info": {
   "name": "python"
  },
  "accelerator": "TPU",
  "gpuClass": "standard"
 },
 "cells": [
  {
   "cell_type": "markdown",
   "source": [
    "Extension 2: Create some additional test data for the greek letter task. Please include the examples as a zip file in your submission.\n",
    "Haotian Shen, Qiaozhi Liu"
   ],
   "metadata": {
    "collapsed": false
   }
  },
  {
   "cell_type": "code",
   "source": [
    "from google.colab import drive\n",
    "drive.mount('/content/drive')"
   ],
   "metadata": {
    "colab": {
     "base_uri": "https://localhost:8080/"
    },
    "id": "Te4QzIaAl8_d",
    "outputId": "2751240a-a624-41b8-9a6a-ace96da9a485"
   },
   "execution_count": 1,
   "outputs": [
    {
     "output_type": "stream",
     "name": "stdout",
     "text": [
      "Mounted at /content/drive\n"
     ]
    }
   ]
  },
  {
   "cell_type": "code",
   "execution_count": 2,
   "metadata": {
    "id": "TEZDriOMktlW"
   },
   "outputs": [],
   "source": [
    "import matplotlib.pyplot as plt\n",
    "import torch\n",
    "import torch.nn as nn\n",
    "import torch.nn.functional as F\n",
    "import torch.optim as optim\n",
    "import torchvision\n",
    "%matplotlib inline"
   ]
  },
  {
   "cell_type": "code",
   "source": [
    "torch.cuda.is_available()"
   ],
   "metadata": {
    "colab": {
     "base_uri": "https://localhost:8080/"
    },
    "id": "0LN9xCN8mmF7",
    "outputId": "72fcbaac-60ee-4a8c-b6ab-9267b3fa4376"
   },
   "execution_count": 3,
   "outputs": [
    {
     "output_type": "execute_result",
     "data": {
      "text/plain": [
       "False"
      ]
     },
     "metadata": {},
     "execution_count": 3
    }
   ]
  },
  {
   "cell_type": "code",
   "source": [
    "class Net(nn.Module):\n",
    "    def __init__(self):\n",
    "        super(Net, self).__init__()\n",
    "        self.conv1 = nn.Conv2d(1, 10, kernel_size=5)\n",
    "        self.conv2 = nn.Conv2d(10, 20, kernel_size=5)\n",
    "        self.conv2_drop = nn.Dropout2d()\n",
    "        self.fc1 = nn.Linear(320, 50)\n",
    "        self.fc2 = nn.Linear(50, 10)\n",
    "\n",
    "    def forward(self, x):\n",
    "        x = F.relu(F.max_pool2d(self.conv1(x), 2))\n",
    "        x = F.relu(F.max_pool2d(self.conv2_drop(self.conv2(x)), 2))\n",
    "        x = x.view(-1, 320)\n",
    "        x = F.relu(self.fc1(x))\n",
    "        x = F.dropout(x, training=self.training)\n",
    "        x = self.fc2(x)\n",
    "        return F.log_softmax(x)"
   ],
   "metadata": {
    "id": "Z4Fvf5fqk260"
   },
   "execution_count": 4,
   "outputs": []
  },
  {
   "cell_type": "code",
   "source": [
    "class GreekTransform:\n",
    "    def __init__(self):\n",
    "        pass\n",
    "\n",
    "    def __call__(self, x):\n",
    "        x = torchvision.transforms.functional.rgb_to_grayscale(x)\n",
    "        x = torchvision.transforms.functional.affine(x, 0, (0, 0), 1 / 120, 0)\n",
    "        x = torchvision.transforms.functional.center_crop(x, (28, 28))\n",
    "        return torchvision.transforms.functional.invert(x)"
   ],
   "metadata": {
    "id": "M660xJBDk3lS"
   },
   "execution_count": 5,
   "outputs": []
  },
  {
   "cell_type": "code",
   "source": [
    "    n_epochs = 10\n",
    "    learning_rate = 0.5\n",
    "    batch_size_train = 5\n",
    "    batch_size_test = 9\n",
    "    momentum = 0.5\n",
    "    log_interval = 10\n",
    "    random_seed = 1\n",
    "    torch.backends.cudnn.enabled = False\n",
    "    torch.manual_seed(random_seed)"
   ],
   "metadata": {
    "colab": {
     "base_uri": "https://localhost:8080/"
    },
    "id": "RXuuwQOVmzYF",
    "outputId": "6289d2f4-4d47-49cc-a79a-9582d8953116"
   },
   "execution_count": 6,
   "outputs": [
    {
     "output_type": "execute_result",
     "data": {
      "text/plain": [
       "<torch._C.Generator at 0x7fce9eb7e870>"
      ]
     },
     "metadata": {},
     "execution_count": 6
    }
   ]
  },
  {
   "cell_type": "code",
   "source": [
    "def main():\n",
    "    network = Net()\n",
    "    network.conv2_drop = nn.Dropout2d(p=0.1)\n",
    "\n",
    "    network.load_state_dict(torch.load('/content/drive/MyDrive/Colab Notebooks/task1_model.pth'))\n",
    "    optimizer = optim.SGD(network.parameters(), lr=learning_rate, momentum=momentum)\n",
    "\n",
    "    for param in network.parameters():\n",
    "        param.requires_grad = False\n",
    "\n",
    "    greek_train = torch.utils.data.DataLoader(\n",
    "        torchvision.datasets.ImageFolder('/content/drive/MyDrive/Colab Notebooks/greek_train_extra', transform=torchvision.transforms.Compose(\n",
    "            [torchvision.transforms.ToTensor(), GreekTransform(),\n",
    "             torchvision.transforms.Normalize((0.1307,), (0.3081,))])), batch_size=batch_size_train, shuffle=True\n",
    "    )\n",
    "\n",
    "    greek_test = torch.utils.data.DataLoader(\n",
    "        torchvision.datasets.ImageFolder('/content/drive/MyDrive/Colab Notebooks/greek_test_extra', transform=torchvision.transforms.Compose(\n",
    "            [torchvision.transforms.ToTensor(), GreekTransform(),\n",
    "             torchvision.transforms.Normalize((0.1307,), (0.3081,))])), batch_size=batch_size_test, shuffle=True\n",
    "    )\n",
    "\n",
    "    network.fc2 = nn.Linear(50, 24)\n",
    "    optimizer = optim.SGD(network.parameters(), lr=learning_rate, momentum=momentum)\n",
    "    print(network)\n",
    "\n",
    "    examples = enumerate(greek_train)\n",
    "    batch_idx, (example_data, example_target) = next(examples)\n",
    "\n",
    "    print(example_data.shape)\n",
    "\n",
    "    plt.figure()\n",
    "    for i in range(batch_size_train):\n",
    "        plt.subplot(1, batch_size_train, i + 1)\n",
    "        plt.tight_layout()\n",
    "        plt.imshow(example_data[i][0], cmap='gray', interpolation='none')\n",
    "        plt.xticks([])\n",
    "        plt.yticks([])\n",
    "    plt.savefig('/content/drive/MyDrive/Colab Notebooks/images/extension2_greek_letter_outputs.png')\n",
    "    plt.show()\n",
    "\n",
    "    train_losses = []\n",
    "    train_counter = []\n",
    "    test_losses = []\n",
    "    test_counter = [i * len(greek_train.dataset) for i in range(n_epochs + 1)]\n",
    "\n",
    "    def train(epoch):\n",
    "        network.train()\n",
    "        for batch_idx, (data, target) in enumerate(greek_train):\n",
    "            optimizer.zero_grad()\n",
    "            output = network(data)\n",
    "            loss = F.nll_loss(output, target)\n",
    "            loss.backward()\n",
    "            optimizer.step()\n",
    "            if batch_idx % log_interval == 0:\n",
    "                print(\n",
    "                    f'Train epoch: {epoch} [{batch_idx * len(data)}/{len(greek_train.dataset)} ({100. * batch_idx / len(greek_train):.0f}%)]\\tLoss: {loss.item():.6f}')\n",
    "                train_losses.append(loss.item())\n",
    "                train_counter.append(batch_idx * 64 + (epoch - 1) * len(greek_train.dataset))\n",
    "                torch.save(network.state_dict(), '/content/drive/MyDrive/Colab Notebooks/extension2_model.pth')\n",
    "                torch.save(optimizer.state_dict(), '/content/drive/MyDrive/Colab Notebooks/extension2_optimizer.pth')\n",
    "\n",
    "    def test():\n",
    "        network.eval()\n",
    "        test_loss = 0\n",
    "        correct = 0\n",
    "        with torch.no_grad():\n",
    "            for data, target in greek_test:\n",
    "                output = network(data)\n",
    "                test_loss += F.nll_loss(output, target, size_average=False).item()\n",
    "                pred = output.data.max(1, keepdim=True)[1]\n",
    "                correct += pred.eq(target.data.view_as(pred)).sum()\n",
    "        test_loss /= len(greek_test.dataset)\n",
    "        test_losses.append(test_loss)\n",
    "        print(\n",
    "            f'Test set: Avg. loss: {test_loss:.4f}, Accuracy: {correct}/{len(greek_test.dataset)} ({100. * correct / len(greek_test.dataset):.0f}%)\\n')\n",
    "\n",
    "    test()\n",
    "    for epoch in range(1, n_epochs + 1):\n",
    "        train(epoch)\n",
    "        test()\n",
    "\n",
    "    plt.figure()\n",
    "    plt.plot(train_counter, train_losses, color='blue')\n",
    "    plt.scatter(test_counter, test_losses, color='red')\n",
    "    plt.legend(['Train Loss', 'Test Loss'], loc='upper right')\n",
    "    plt.xlabel('number of training examples seen')\n",
    "    plt.ylabel('negative log likelihood loss')\n",
    "    plt.savefig('/content/drive/MyDrive/Colab Notebooks/images/extension2_greek_letter_performance.png')\n",
    "    plt.show()\n",
    "\n",
    "    with torch.no_grad():\n",
    "        output = network(example_data)\n",
    "    plt.figure()\n",
    "    for i in range(batch_size_train):\n",
    "        plt.subplot(1, batch_size_train, i + 1)\n",
    "        plt.tight_layout()\n",
    "        plt.imshow(example_data[i][0], cmap='gray', interpolation='none')\n",
    "        plt.title(f'Prediction: {output.data.max(1, keepdim=True)[1][i].item()}')\n",
    "        plt.xticks([])\n",
    "        plt.yticks([])\n",
    "    plt.savefig('/content/drive/MyDrive/Colab Notebooks/images/extension2_greek_letter_outputs_with_prediction_label.png')\n",
    "    plt.show()"
   ],
   "metadata": {
    "id": "SagyZHaGk8A4"
   },
   "execution_count": 7,
   "outputs": []
  },
  {
   "cell_type": "code",
   "source": [
    "main()"
   ],
   "metadata": {
    "colab": {
     "base_uri": "https://localhost:8080/",
     "height": 1000
    },
    "id": "eZqemEC8mDlM",
    "outputId": "cdfefb5a-ca0f-4cab-8812-0507d5bdd1ea"
   },
   "execution_count": 8,
   "outputs": [
    {
     "output_type": "stream",
     "name": "stdout",
     "text": [
      "Net(\n",
      "  (conv1): Conv2d(1, 10, kernel_size=(5, 5), stride=(1, 1))\n",
      "  (conv2): Conv2d(10, 20, kernel_size=(5, 5), stride=(1, 1))\n",
      "  (conv2_drop): Dropout2d(p=0.1, inplace=False)\n",
      "  (fc1): Linear(in_features=320, out_features=50, bias=True)\n",
      "  (fc2): Linear(in_features=50, out_features=24, bias=True)\n",
      ")\n",
      "torch.Size([5, 1, 28, 28])\n"
     ]
    },
    {
     "output_type": "display_data",
     "data": {
      "text/plain": [
       "<Figure size 432x288 with 5 Axes>"
      ],
      "image/png": "[encoded data removed]"
     },
     "metadata": {}
    },
    {
     "output_type": "stream",
     "name": "stderr",
     "text": [
      "<ipython-input-4-6c2218f37724>:17: UserWarning: Implicit dimension choice for log_softmax has been deprecated. Change the call to include dim=X as an argument.\n",
      "  return F.log_softmax(x)\n",
      "/usr/local/lib/python3.9/dist-packages/torch/nn/_reduction.py:42: UserWarning: size_average and reduce args will be deprecated, please use reduction='sum' instead.\n",
      "  warnings.warn(warning.format(ret))\n"
     ]
    },
    {
     "output_type": "stream",
     "name": "stdout",
     "text": [
      "Test set: Avg. loss: 3.7154, Accuracy: 4/96 (4%)\n",
      "\n",
      "Train epoch: 1 [0/240 (0%)]\tLoss: 3.939344\n",
      "Train epoch: 1 [50/240 (21%)]\tLoss: 28.289959\n",
      "Train epoch: 1 [100/240 (42%)]\tLoss: 5.426642\n",
      "Train epoch: 1 [150/240 (62%)]\tLoss: 25.184383\n",
      "Train epoch: 1 [200/240 (83%)]\tLoss: 82.897629\n",
      "Test set: Avg. loss: 47.1912, Accuracy: 34/96 (35%)\n",
      "\n",
      "Train epoch: 2 [0/240 (0%)]\tLoss: 15.123968\n",
      "Train epoch: 2 [50/240 (21%)]\tLoss: 32.361046\n",
      "Train epoch: 2 [100/240 (42%)]\tLoss: 82.715759\n",
      "Train epoch: 2 [150/240 (62%)]\tLoss: 23.898853\n",
      "Train epoch: 2 [200/240 (83%)]\tLoss: 52.217285\n",
      "Test set: Avg. loss: 25.2343, Accuracy: 48/96 (50%)\n",
      "\n",
      "Train epoch: 3 [0/240 (0%)]\tLoss: 22.559677\n",
      "Train epoch: 3 [50/240 (21%)]\tLoss: 39.784790\n",
      "Train epoch: 3 [100/240 (42%)]\tLoss: 34.850300\n",
      "Train epoch: 3 [150/240 (62%)]\tLoss: 77.235237\n",
      "Train epoch: 3 [200/240 (83%)]\tLoss: 89.772049\n",
      "Test set: Avg. loss: 20.9992, Accuracy: 49/96 (51%)\n",
      "\n",
      "Train epoch: 4 [0/240 (0%)]\tLoss: 31.204639\n",
      "Train epoch: 4 [50/240 (21%)]\tLoss: 4.403615\n",
      "Train epoch: 4 [100/240 (42%)]\tLoss: 40.973892\n",
      "Train epoch: 4 [150/240 (62%)]\tLoss: 32.621193\n",
      "Train epoch: 4 [200/240 (83%)]\tLoss: 44.841423\n",
      "Test set: Avg. loss: 21.1127, Accuracy: 58/96 (60%)\n",
      "\n",
      "Train epoch: 5 [0/240 (0%)]\tLoss: 38.107952\n",
      "Train epoch: 5 [50/240 (21%)]\tLoss: 21.197294\n",
      "Train epoch: 5 [100/240 (42%)]\tLoss: 17.065632\n",
      "Train epoch: 5 [150/240 (62%)]\tLoss: 18.046549\n",
      "Train epoch: 5 [200/240 (83%)]\tLoss: 66.892868\n",
      "Test set: Avg. loss: 23.5806, Accuracy: 60/96 (62%)\n",
      "\n",
      "Train epoch: 6 [0/240 (0%)]\tLoss: 25.834778\n",
      "Train epoch: 6 [50/240 (21%)]\tLoss: 32.507145\n",
      "Train epoch: 6 [100/240 (42%)]\tLoss: 55.343548\n",
      "Train epoch: 6 [150/240 (62%)]\tLoss: 38.630501\n",
      "Train epoch: 6 [200/240 (83%)]\tLoss: 37.691341\n",
      "Test set: Avg. loss: 19.4435, Accuracy: 67/96 (70%)\n",
      "\n",
      "Train epoch: 7 [0/240 (0%)]\tLoss: 45.316486\n",
      "Train epoch: 7 [50/240 (21%)]\tLoss: 66.239990\n",
      "Train epoch: 7 [100/240 (42%)]\tLoss: 29.716879\n",
      "Train epoch: 7 [150/240 (62%)]\tLoss: 42.394432\n",
      "Train epoch: 7 [200/240 (83%)]\tLoss: 3.761517\n",
      "Test set: Avg. loss: 20.0550, Accuracy: 63/96 (66%)\n",
      "\n",
      "Train epoch: 8 [0/240 (0%)]\tLoss: 29.607828\n",
      "Train epoch: 8 [50/240 (21%)]\tLoss: 64.607948\n",
      "Train epoch: 8 [100/240 (42%)]\tLoss: 34.816845\n",
      "Train epoch: 8 [150/240 (62%)]\tLoss: 25.806189\n",
      "Train epoch: 8 [200/240 (83%)]\tLoss: 28.233749\n",
      "Test set: Avg. loss: 16.1366, Accuracy: 72/96 (75%)\n",
      "\n",
      "Train epoch: 9 [0/240 (0%)]\tLoss: 73.060410\n",
      "Train epoch: 9 [50/240 (21%)]\tLoss: 3.337471\n",
      "Train epoch: 9 [100/240 (42%)]\tLoss: 5.034686\n",
      "Train epoch: 9 [150/240 (62%)]\tLoss: 24.839447\n",
      "Train epoch: 9 [200/240 (83%)]\tLoss: 97.698944\n",
      "Test set: Avg. loss: 17.8504, Accuracy: 73/96 (76%)\n",
      "\n",
      "Train epoch: 10 [0/240 (0%)]\tLoss: 29.463459\n",
      "Train epoch: 10 [50/240 (21%)]\tLoss: 98.624985\n",
      "Train epoch: 10 [100/240 (42%)]\tLoss: 20.863705\n",
      "Train epoch: 10 [150/240 (62%)]\tLoss: 32.953213\n",
      "Train epoch: 10 [200/240 (83%)]\tLoss: 31.360987\n",
      "Test set: Avg. loss: 26.3331, Accuracy: 66/96 (69%)\n",
      "\n"
     ]
    },
    {
     "output_type": "display_data",
     "data": {
      "text/plain": [
       "<Figure size 432x288 with 1 Axes>"
      ],
      "image/png": "[encoded data removed]"
     },
     "metadata": {
      "needs_background": "light"
     }
    },
    {
     "output_type": "display_data",
     "data": {
      "text/plain": [
       "<Figure size 432x288 with 5 Axes>"
      ],
      "image/png": "[encoded data removed]"
     },
     "metadata": {}
    }
   ]
  }
 ]
}
